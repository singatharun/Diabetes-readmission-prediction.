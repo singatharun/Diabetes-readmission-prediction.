{
  "nbformat": 4,
  "nbformat_minor": 0,
  "metadata": {
    "colab": {
      "name": "Diabetic patient readmission prediction with machine learning",
      "provenance": [],
      "collapsed_sections": []
    },
    "kernelspec": {
      "display_name": "Python 3",
      "name": "python3"
    },
    "language_info": {
      "name": "python"
    }
  },
  "cells": [
    {
      "cell_type": "code",
      "metadata": {
        "id": "6tnpbUWru91K"
      },
      "source": [
        "#from google.colab import files\n",
        "#files.upload()"
      ],
      "execution_count": null,
      "outputs": []
    },
    {
      "cell_type": "markdown",
      "metadata": {
        "id": "dkPzaIUpw3Wx"
      },
      "source": [
        "### About Dataset"
      ]
    },
    {
      "cell_type": "markdown",
      "metadata": {
        "id": "i-AOriiRw8SG"
      },
      "source": [
        "The data that is used in this project originally comes from the UCI machine learning repository. The data consists of over 100000 hospital admissions from patients with diabetes from 130 US hospitals between 1999–2008.It contains over 50 features with each instance representing patient and hospital outcomes (whether they were readmitted to the hospital)."
      ]
    },
    {
      "cell_type": "code",
      "metadata": {
        "colab": {
          "base_uri": "https://localhost:8080/"
        },
        "id": "o7houLejxmOu",
        "outputId": "caaeff6d-97c1-4971-dcd5-70d1781c9fa3"
      },
      "source": [
        "#Importing necessary libraries\n",
        "import pandas as pd\n",
        "import numpy as np\n",
        "\n",
        "#data visualization packages\n",
        "import seaborn as sns\n",
        "import matplotlib.pyplot as plt\n",
        "%matplotlib inline  \n",
        "\n",
        "#SMOTE package to address imbalanced classes\n",
        "from imblearn.over_sampling import SMOTE\n",
        "\n",
        "#machine learning packages (sklearn + xgboost)\n",
        "from sklearn.model_selection import train_test_split, GridSearchCV, RandomizedSearchCV, cross_val_score\n",
        "from sklearn.preprocessing import StandardScaler\n",
        "from sklearn.metrics import confusion_matrix, classification_report, roc_curve, auc\n",
        "from sklearn.ensemble import RandomForestClassifier, BaggingClassifier, VotingClassifier\n",
        "from sklearn.linear_model import LogisticRegression\n",
        "from sklearn.tree import DecisionTreeClassifier\n",
        "import xgboost as xgb\n",
        "\n",
        "from warnings import filterwarnings\n",
        "filterwarnings('ignore')"
      ],
      "execution_count": null,
      "outputs": [
        {
          "name": "stderr",
          "output_type": "stream",
          "text": [
            "/usr/local/lib/python3.7/dist-packages/sklearn/externals/six.py:31: FutureWarning: The module is deprecated in version 0.21 and will be removed in version 0.23 since we've dropped support for Python 2.7. Please rely on the official version of six (https://pypi.org/project/six/).\n",
            "  \"(https://pypi.org/project/six/).\", FutureWarning)\n",
            "/usr/local/lib/python3.7/dist-packages/sklearn/utils/deprecation.py:144: FutureWarning: The sklearn.neighbors.base module is  deprecated in version 0.22 and will be removed in version 0.24. The corresponding classes / functions should instead be imported from sklearn.neighbors. Anything that cannot be imported from sklearn.neighbors is now part of the private API.\n",
            "  warnings.warn(message, FutureWarning)\n"
          ]
        }
      ]
    },
    {
      "cell_type": "markdown",
      "metadata": {
        "id": "AS3hZVvxy5Ny"
      },
      "source": [
        "### Data Processing"
      ]
    },
    {
      "cell_type": "code",
      "metadata": {
        "id": "be0m7Oi8wN0X"
      },
      "source": [
        "df=pd.read_csv(\"diabetic_data.csv\",na_values='?')"
      ],
      "execution_count": null,
      "outputs": []
    },
    {
      "cell_type": "code",
      "metadata": {
        "colab": {
          "base_uri": "https://localhost:8080/",
          "height": 330
        },
        "id": "-p4KIFZgxlBK",
        "outputId": "80138d89-6fa4-4b71-95b6-6b9efad154b8"
      },
      "source": [
        "df.head()"
      ],
      "execution_count": null,
      "outputs": [
        {
          "data": {
            "text/html": [
              "<div>\n",
              "<style scoped>\n",
              "    .dataframe tbody tr th:only-of-type {\n",
              "        vertical-align: middle;\n",
              "    }\n",
              "\n",
              "    .dataframe tbody tr th {\n",
              "        vertical-align: top;\n",
              "    }\n",
              "\n",
              "    .dataframe thead th {\n",
              "        text-align: right;\n",
              "    }\n",
              "</style>\n",
              "<table border=\"1\" class=\"dataframe\">\n",
              "  <thead>\n",
              "    <tr style=\"text-align: right;\">\n",
              "      <th></th>\n",
              "      <th>encounter_id</th>\n",
              "      <th>patient_nbr</th>\n",
              "      <th>race</th>\n",
              "      <th>gender</th>\n",
              "      <th>age</th>\n",
              "      <th>weight</th>\n",
              "      <th>admission_type_id</th>\n",
              "      <th>discharge_disposition_id</th>\n",
              "      <th>admission_source_id</th>\n",
              "      <th>time_in_hospital</th>\n",
              "      <th>payer_code</th>\n",
              "      <th>medical_specialty</th>\n",
              "      <th>num_lab_procedures</th>\n",
              "      <th>num_procedures</th>\n",
              "      <th>num_medications</th>\n",
              "      <th>number_outpatient</th>\n",
              "      <th>number_emergency</th>\n",
              "      <th>number_inpatient</th>\n",
              "      <th>diag_1</th>\n",
              "      <th>diag_2</th>\n",
              "      <th>diag_3</th>\n",
              "      <th>number_diagnoses</th>\n",
              "      <th>max_glu_serum</th>\n",
              "      <th>A1Cresult</th>\n",
              "      <th>metformin</th>\n",
              "      <th>repaglinide</th>\n",
              "      <th>nateglinide</th>\n",
              "      <th>chlorpropamide</th>\n",
              "      <th>glimepiride</th>\n",
              "      <th>acetohexamide</th>\n",
              "      <th>glipizide</th>\n",
              "      <th>glyburide</th>\n",
              "      <th>tolbutamide</th>\n",
              "      <th>pioglitazone</th>\n",
              "      <th>rosiglitazone</th>\n",
              "      <th>acarbose</th>\n",
              "      <th>miglitol</th>\n",
              "      <th>troglitazone</th>\n",
              "      <th>tolazamide</th>\n",
              "      <th>examide</th>\n",
              "      <th>citoglipton</th>\n",
              "      <th>insulin</th>\n",
              "      <th>glyburide-metformin</th>\n",
              "      <th>glipizide-metformin</th>\n",
              "      <th>glimepiride-pioglitazone</th>\n",
              "      <th>metformin-rosiglitazone</th>\n",
              "      <th>metformin-pioglitazone</th>\n",
              "      <th>change</th>\n",
              "      <th>diabetesMed</th>\n",
              "      <th>readmitted</th>\n",
              "    </tr>\n",
              "  </thead>\n",
              "  <tbody>\n",
              "    <tr>\n",
              "      <th>0</th>\n",
              "      <td>2278392</td>\n",
              "      <td>8222157</td>\n",
              "      <td>Caucasian</td>\n",
              "      <td>Female</td>\n",
              "      <td>[0-10)</td>\n",
              "      <td>NaN</td>\n",
              "      <td>6</td>\n",
              "      <td>25</td>\n",
              "      <td>1</td>\n",
              "      <td>1</td>\n",
              "      <td>NaN</td>\n",
              "      <td>Pediatrics-Endocrinology</td>\n",
              "      <td>41</td>\n",
              "      <td>0</td>\n",
              "      <td>1</td>\n",
              "      <td>0</td>\n",
              "      <td>0</td>\n",
              "      <td>0</td>\n",
              "      <td>250.83</td>\n",
              "      <td>NaN</td>\n",
              "      <td>NaN</td>\n",
              "      <td>1</td>\n",
              "      <td>None</td>\n",
              "      <td>None</td>\n",
              "      <td>No</td>\n",
              "      <td>No</td>\n",
              "      <td>No</td>\n",
              "      <td>No</td>\n",
              "      <td>No</td>\n",
              "      <td>No</td>\n",
              "      <td>No</td>\n",
              "      <td>No</td>\n",
              "      <td>No</td>\n",
              "      <td>No</td>\n",
              "      <td>No</td>\n",
              "      <td>No</td>\n",
              "      <td>No</td>\n",
              "      <td>No</td>\n",
              "      <td>No</td>\n",
              "      <td>No</td>\n",
              "      <td>No</td>\n",
              "      <td>No</td>\n",
              "      <td>No</td>\n",
              "      <td>No</td>\n",
              "      <td>No</td>\n",
              "      <td>No</td>\n",
              "      <td>No</td>\n",
              "      <td>No</td>\n",
              "      <td>No</td>\n",
              "      <td>NO</td>\n",
              "    </tr>\n",
              "    <tr>\n",
              "      <th>1</th>\n",
              "      <td>149190</td>\n",
              "      <td>55629189</td>\n",
              "      <td>Caucasian</td>\n",
              "      <td>Female</td>\n",
              "      <td>[10-20)</td>\n",
              "      <td>NaN</td>\n",
              "      <td>1</td>\n",
              "      <td>1</td>\n",
              "      <td>7</td>\n",
              "      <td>3</td>\n",
              "      <td>NaN</td>\n",
              "      <td>NaN</td>\n",
              "      <td>59</td>\n",
              "      <td>0</td>\n",
              "      <td>18</td>\n",
              "      <td>0</td>\n",
              "      <td>0</td>\n",
              "      <td>0</td>\n",
              "      <td>276</td>\n",
              "      <td>250.01</td>\n",
              "      <td>255</td>\n",
              "      <td>9</td>\n",
              "      <td>None</td>\n",
              "      <td>None</td>\n",
              "      <td>No</td>\n",
              "      <td>No</td>\n",
              "      <td>No</td>\n",
              "      <td>No</td>\n",
              "      <td>No</td>\n",
              "      <td>No</td>\n",
              "      <td>No</td>\n",
              "      <td>No</td>\n",
              "      <td>No</td>\n",
              "      <td>No</td>\n",
              "      <td>No</td>\n",
              "      <td>No</td>\n",
              "      <td>No</td>\n",
              "      <td>No</td>\n",
              "      <td>No</td>\n",
              "      <td>No</td>\n",
              "      <td>No</td>\n",
              "      <td>Up</td>\n",
              "      <td>No</td>\n",
              "      <td>No</td>\n",
              "      <td>No</td>\n",
              "      <td>No</td>\n",
              "      <td>No</td>\n",
              "      <td>Ch</td>\n",
              "      <td>Yes</td>\n",
              "      <td>&gt;30</td>\n",
              "    </tr>\n",
              "    <tr>\n",
              "      <th>2</th>\n",
              "      <td>64410</td>\n",
              "      <td>86047875</td>\n",
              "      <td>AfricanAmerican</td>\n",
              "      <td>Female</td>\n",
              "      <td>[20-30)</td>\n",
              "      <td>NaN</td>\n",
              "      <td>1</td>\n",
              "      <td>1</td>\n",
              "      <td>7</td>\n",
              "      <td>2</td>\n",
              "      <td>NaN</td>\n",
              "      <td>NaN</td>\n",
              "      <td>11</td>\n",
              "      <td>5</td>\n",
              "      <td>13</td>\n",
              "      <td>2</td>\n",
              "      <td>0</td>\n",
              "      <td>1</td>\n",
              "      <td>648</td>\n",
              "      <td>250</td>\n",
              "      <td>V27</td>\n",
              "      <td>6</td>\n",
              "      <td>None</td>\n",
              "      <td>None</td>\n",
              "      <td>No</td>\n",
              "      <td>No</td>\n",
              "      <td>No</td>\n",
              "      <td>No</td>\n",
              "      <td>No</td>\n",
              "      <td>No</td>\n",
              "      <td>Steady</td>\n",
              "      <td>No</td>\n",
              "      <td>No</td>\n",
              "      <td>No</td>\n",
              "      <td>No</td>\n",
              "      <td>No</td>\n",
              "      <td>No</td>\n",
              "      <td>No</td>\n",
              "      <td>No</td>\n",
              "      <td>No</td>\n",
              "      <td>No</td>\n",
              "      <td>No</td>\n",
              "      <td>No</td>\n",
              "      <td>No</td>\n",
              "      <td>No</td>\n",
              "      <td>No</td>\n",
              "      <td>No</td>\n",
              "      <td>No</td>\n",
              "      <td>Yes</td>\n",
              "      <td>NO</td>\n",
              "    </tr>\n",
              "    <tr>\n",
              "      <th>3</th>\n",
              "      <td>500364</td>\n",
              "      <td>82442376</td>\n",
              "      <td>Caucasian</td>\n",
              "      <td>Male</td>\n",
              "      <td>[30-40)</td>\n",
              "      <td>NaN</td>\n",
              "      <td>1</td>\n",
              "      <td>1</td>\n",
              "      <td>7</td>\n",
              "      <td>2</td>\n",
              "      <td>NaN</td>\n",
              "      <td>NaN</td>\n",
              "      <td>44</td>\n",
              "      <td>1</td>\n",
              "      <td>16</td>\n",
              "      <td>0</td>\n",
              "      <td>0</td>\n",
              "      <td>0</td>\n",
              "      <td>8</td>\n",
              "      <td>250.43</td>\n",
              "      <td>403</td>\n",
              "      <td>7</td>\n",
              "      <td>None</td>\n",
              "      <td>None</td>\n",
              "      <td>No</td>\n",
              "      <td>No</td>\n",
              "      <td>No</td>\n",
              "      <td>No</td>\n",
              "      <td>No</td>\n",
              "      <td>No</td>\n",
              "      <td>No</td>\n",
              "      <td>No</td>\n",
              "      <td>No</td>\n",
              "      <td>No</td>\n",
              "      <td>No</td>\n",
              "      <td>No</td>\n",
              "      <td>No</td>\n",
              "      <td>No</td>\n",
              "      <td>No</td>\n",
              "      <td>No</td>\n",
              "      <td>No</td>\n",
              "      <td>Up</td>\n",
              "      <td>No</td>\n",
              "      <td>No</td>\n",
              "      <td>No</td>\n",
              "      <td>No</td>\n",
              "      <td>No</td>\n",
              "      <td>Ch</td>\n",
              "      <td>Yes</td>\n",
              "      <td>NO</td>\n",
              "    </tr>\n",
              "    <tr>\n",
              "      <th>4</th>\n",
              "      <td>16680</td>\n",
              "      <td>42519267</td>\n",
              "      <td>Caucasian</td>\n",
              "      <td>Male</td>\n",
              "      <td>[40-50)</td>\n",
              "      <td>NaN</td>\n",
              "      <td>1</td>\n",
              "      <td>1</td>\n",
              "      <td>7</td>\n",
              "      <td>1</td>\n",
              "      <td>NaN</td>\n",
              "      <td>NaN</td>\n",
              "      <td>51</td>\n",
              "      <td>0</td>\n",
              "      <td>8</td>\n",
              "      <td>0</td>\n",
              "      <td>0</td>\n",
              "      <td>0</td>\n",
              "      <td>197</td>\n",
              "      <td>157</td>\n",
              "      <td>250</td>\n",
              "      <td>5</td>\n",
              "      <td>None</td>\n",
              "      <td>None</td>\n",
              "      <td>No</td>\n",
              "      <td>No</td>\n",
              "      <td>No</td>\n",
              "      <td>No</td>\n",
              "      <td>No</td>\n",
              "      <td>No</td>\n",
              "      <td>Steady</td>\n",
              "      <td>No</td>\n",
              "      <td>No</td>\n",
              "      <td>No</td>\n",
              "      <td>No</td>\n",
              "      <td>No</td>\n",
              "      <td>No</td>\n",
              "      <td>No</td>\n",
              "      <td>No</td>\n",
              "      <td>No</td>\n",
              "      <td>No</td>\n",
              "      <td>Steady</td>\n",
              "      <td>No</td>\n",
              "      <td>No</td>\n",
              "      <td>No</td>\n",
              "      <td>No</td>\n",
              "      <td>No</td>\n",
              "      <td>Ch</td>\n",
              "      <td>Yes</td>\n",
              "      <td>NO</td>\n",
              "    </tr>\n",
              "  </tbody>\n",
              "</table>\n",
              "</div>"
            ],
            "text/plain": [
              "   encounter_id  patient_nbr             race  ... change diabetesMed readmitted\n",
              "0       2278392      8222157        Caucasian  ...     No          No         NO\n",
              "1        149190     55629189        Caucasian  ...     Ch         Yes        >30\n",
              "2         64410     86047875  AfricanAmerican  ...     No         Yes         NO\n",
              "3        500364     82442376        Caucasian  ...     Ch         Yes         NO\n",
              "4         16680     42519267        Caucasian  ...     Ch         Yes         NO\n",
              "\n",
              "[5 rows x 50 columns]"
            ]
          },
          "execution_count": 4,
          "metadata": {},
          "output_type": "execute_result"
        }
      ]
    },
    {
      "cell_type": "code",
      "metadata": {
        "colab": {
          "base_uri": "https://localhost:8080/"
        },
        "id": "boaJqgB6xyXm",
        "outputId": "6caa11c1-b490-4a2c-eeea-4c9ddfed4631"
      },
      "source": [
        "print(\"Number of samples:\", len(df))"
      ],
      "execution_count": null,
      "outputs": [
        {
          "name": "stdout",
          "output_type": "stream",
          "text": [
            "Number of samples: 101766\n"
          ]
        }
      ]
    },
    {
      "cell_type": "code",
      "metadata": {
        "colab": {
          "base_uri": "https://localhost:8080/"
        },
        "id": "JW8-7RxwzS4x",
        "outputId": "8668c01e-4918-43f3-80eb-d6df46d987f1"
      },
      "source": [
        "#Let us explore readmitted column\n",
        "df[\"readmitted\"].value_counts()"
      ],
      "execution_count": null,
      "outputs": [
        {
          "data": {
            "text/plain": [
              "NO     54864\n",
              ">30    35545\n",
              "<30    11357\n",
              "Name: readmitted, dtype: int64"
            ]
          },
          "execution_count": 6,
          "metadata": {},
          "output_type": "execute_result"
        }
      ]
    },
    {
      "cell_type": "code",
      "metadata": {
        "id": "7Ns7K-fu6Vpl"
      },
      "source": [
        "#readmitted column is our output variable. Hence encoding the column.\n",
        "#We are predicting patient readmission within 30 days.Hence mapping it to 1 and rest all to 0.\n",
        "df['readmitted'] = df.readmitted.map({'NO':0, '>30':0, '<30':1})"
      ],
      "execution_count": null,
      "outputs": []
    },
    {
      "cell_type": "code",
      "metadata": {
        "colab": {
          "base_uri": "https://localhost:8080/"
        },
        "id": "KLbnvMdw7-5d",
        "outputId": "499cf8ea-70ee-4535-f848-d0122df794a5"
      },
      "source": [
        "df.readmitted.value_counts()"
      ],
      "execution_count": null,
      "outputs": [
        {
          "data": {
            "text/plain": [
              "0    90409\n",
              "1    11357\n",
              "Name: readmitted, dtype: int64"
            ]
          },
          "execution_count": 8,
          "metadata": {},
          "output_type": "execute_result"
        }
      ]
    },
    {
      "cell_type": "markdown",
      "metadata": {
        "id": "raAsLsED8pK-"
      },
      "source": [
        "From the value_counts of readmitted column, it is clear that we have only 11357 positive and 90409 negative values. Hence this is imbalanced classification. We will address this later."
      ]
    },
    {
      "cell_type": "markdown",
      "metadata": {
        "id": "G3QYRu9x0III"
      },
      "source": [
        "## Missing Values"
      ]
    },
    {
      "cell_type": "code",
      "metadata": {
        "colab": {
          "base_uri": "https://localhost:8080/",
          "height": 283
        },
        "id": "JexgJ8U_zufU",
        "outputId": "85042472-5f3d-49dd-8fac-5f2f03819141"
      },
      "source": [
        "missing=round((df.isna().sum()/len(df)),2).sort_values(ascending=True)\n",
        "missing = missing[missing > 0]\n",
        "missing.plot(kind='barh')"
      ],
      "execution_count": null,
      "outputs": [
        {
          "data": {
            "text/plain": [
              "<matplotlib.axes._subplots.AxesSubplot at 0x7fe48a347d90>"
            ]
          },
          "execution_count": 9,
          "metadata": {},
          "output_type": "execute_result"
        },
        {
          "data": {
            "image/png": "[encoded data removed]",
            "text/plain": [
              "<Figure size 432x288 with 1 Axes>"
            ]
          },
          "metadata": {},
          "output_type": "display_data"
        }
      ]
    },
    {
      "cell_type": "code",
      "metadata": {
        "colab": {
          "base_uri": "https://localhost:8080/"
        },
        "id": "6IGox5Pw1RZ0",
        "outputId": "23461f43-4c79-4dff-9d75-b798e988687f"
      },
      "source": [
        "missing"
      ],
      "execution_count": null,
      "outputs": [
        {
          "data": {
            "text/plain": [
              "diag_3               0.01\n",
              "race                 0.02\n",
              "payer_code           0.40\n",
              "medical_specialty    0.49\n",
              "weight               0.97\n",
              "dtype: float64"
            ]
          },
          "execution_count": 10,
          "metadata": {},
          "output_type": "execute_result"
        }
      ]
    },
    {
      "cell_type": "markdown",
      "metadata": {
        "id": "aIPYJfCI1n2z"
      },
      "source": [
        "The top three features with missing values are weight, medical_specialty, and prayer_code. We will address missing values by either droping or imputing."
      ]
    },
    {
      "cell_type": "code",
      "metadata": {
        "id": "M3pjOzHo3aao"
      },
      "source": [
        "#Let us explore discharge_disposition_id\n",
        "#This column tell us where the patient went after the hospitalization \n",
        "#From IDs_mapping.csv provided by UCI we can see that 11,13,14,19,20,21 are\n",
        "#related to death or hospice. Hence we should remove these samples from the predictive model as they cannot be readmitted.\n",
        "\n",
        "df=df.loc[~df[\"discharge_disposition_id\"].isin([11,13,14,19,20,21])]"
      ],
      "execution_count": null,
      "outputs": []
    },
    {
      "cell_type": "code",
      "metadata": {
        "id": "hSvM6u9X2Czj"
      },
      "source": [
        "# drop duplicate patient encounters\n",
        "df.drop_duplicates('patient_nbr', keep = 'first')\n",
        "df.drop('patient_nbr', axis = 1, inplace = True)"
      ],
      "execution_count": null,
      "outputs": []
    },
    {
      "cell_type": "markdown",
      "metadata": {
        "id": "AMVkl8vIAo9v"
      },
      "source": [
        "## Feature Engineering "
      ]
    },
    {
      "cell_type": "code",
      "metadata": {
        "colab": {
          "base_uri": "https://localhost:8080/"
        },
        "id": "VVUvhy7dA6_M",
        "outputId": "1a4752c5-6021-48c8-e7b8-7245ec0f5765"
      },
      "source": [
        "df.dtypes#exploring the datatypes"
      ],
      "execution_count": null,
      "outputs": [
        {
          "data": {
            "text/plain": [
              "encounter_id                 int64\n",
              "race                        object\n",
              "gender                      object\n",
              "age                         object\n",
              "weight                      object\n",
              "admission_type_id            int64\n",
              "discharge_disposition_id     int64\n",
              "admission_source_id          int64\n",
              "time_in_hospital             int64\n",
              "payer_code                  object\n",
              "medical_specialty           object\n",
              "num_lab_procedures           int64\n",
              "num_procedures               int64\n",
              "num_medications              int64\n",
              "number_outpatient            int64\n",
              "number_emergency             int64\n",
              "number_inpatient             int64\n",
              "diag_1                      object\n",
              "diag_2                      object\n",
              "diag_3                      object\n",
              "number_diagnoses             int64\n",
              "max_glu_serum               object\n",
              "A1Cresult                   object\n",
              "metformin                   object\n",
              "repaglinide                 object\n",
              "nateglinide                 object\n",
              "chlorpropamide              object\n",
              "glimepiride                 object\n",
              "acetohexamide               object\n",
              "glipizide                   object\n",
              "glyburide                   object\n",
              "tolbutamide                 object\n",
              "pioglitazone                object\n",
              "rosiglitazone               object\n",
              "acarbose                    object\n",
              "miglitol                    object\n",
              "troglitazone                object\n",
              "tolazamide                  object\n",
              "examide                     object\n",
              "citoglipton                 object\n",
              "insulin                     object\n",
              "glyburide-metformin         object\n",
              "glipizide-metformin         object\n",
              "glimepiride-pioglitazone    object\n",
              "metformin-rosiglitazone     object\n",
              "metformin-pioglitazone      object\n",
              "change                      object\n",
              "diabetesMed                 object\n",
              "readmitted                   int64\n",
              "dtype: object"
            ]
          },
          "execution_count": 13,
          "metadata": {},
          "output_type": "execute_result"
        }
      ]
    },
    {
      "cell_type": "code",
      "metadata": {
        "id": "PcMrtb_ABLhi"
      },
      "source": [
        "#Storing numerical columns and categorical columns into two differents list.\n",
        "num_cols=[]\n",
        "cat_cols=[]\n",
        "for i in df.columns:\n",
        "  if df[i].dtypes==\"int64\":\n",
        "    num_cols.append(i)\n",
        "  else :\n",
        "    cat_cols.append(i)\n"
      ],
      "execution_count": null,
      "outputs": []
    },
    {
      "cell_type": "code",
      "metadata": {
        "colab": {
          "base_uri": "https://localhost:8080/"
        },
        "id": "OVm-iZZjAXAK",
        "outputId": "dccec948-f215-4646-8966-30ade6e85e6e"
      },
      "source": [
        "#Lets us see the numerical and categorical columns\n",
        "num_cols,cat_cols"
      ],
      "execution_count": null,
      "outputs": [
        {
          "data": {
            "text/plain": [
              "(['encounter_id',\n",
              "  'admission_type_id',\n",
              "  'discharge_disposition_id',\n",
              "  'admission_source_id',\n",
              "  'time_in_hospital',\n",
              "  'num_lab_procedures',\n",
              "  'num_procedures',\n",
              "  'num_medications',\n",
              "  'number_outpatient',\n",
              "  'number_emergency',\n",
              "  'number_inpatient',\n",
              "  'number_diagnoses',\n",
              "  'readmitted'],\n",
              " ['race',\n",
              "  'gender',\n",
              "  'age',\n",
              "  'weight',\n",
              "  'payer_code',\n",
              "  'medical_specialty',\n",
              "  'diag_1',\n",
              "  'diag_2',\n",
              "  'diag_3',\n",
              "  'max_glu_serum',\n",
              "  'A1Cresult',\n",
              "  'metformin',\n",
              "  'repaglinide',\n",
              "  'nateglinide',\n",
              "  'chlorpropamide',\n",
              "  'glimepiride',\n",
              "  'acetohexamide',\n",
              "  'glipizide',\n",
              "  'glyburide',\n",
              "  'tolbutamide',\n",
              "  'pioglitazone',\n",
              "  'rosiglitazone',\n",
              "  'acarbose',\n",
              "  'miglitol',\n",
              "  'troglitazone',\n",
              "  'tolazamide',\n",
              "  'examide',\n",
              "  'citoglipton',\n",
              "  'insulin',\n",
              "  'glyburide-metformin',\n",
              "  'glipizide-metformin',\n",
              "  'glimepiride-pioglitazone',\n",
              "  'metformin-rosiglitazone',\n",
              "  'metformin-pioglitazone',\n",
              "  'change',\n",
              "  'diabetesMed'])"
            ]
          },
          "execution_count": 15,
          "metadata": {},
          "output_type": "execute_result"
        }
      ]
    },
    {
      "cell_type": "markdown",
      "metadata": {
        "id": "sImhPPi8i_oB"
      },
      "source": [
        "Exploring Numerical cols"
      ]
    },
    {
      "cell_type": "code",
      "metadata": {
        "colab": {
          "base_uri": "https://localhost:8080/"
        },
        "id": "jWorWvu9i-bg",
        "outputId": "01c1c638-bddd-4f6a-aabd-716033d7df05"
      },
      "source": [
        "df[num_cols].isnull().sum()#we don't have any null values in numerical cols."
      ],
      "execution_count": null,
      "outputs": [
        {
          "data": {
            "text/plain": [
              "encounter_id                0\n",
              "admission_type_id           0\n",
              "discharge_disposition_id    0\n",
              "admission_source_id         0\n",
              "time_in_hospital            0\n",
              "num_lab_procedures          0\n",
              "num_procedures              0\n",
              "num_medications             0\n",
              "number_outpatient           0\n",
              "number_emergency            0\n",
              "number_inpatient            0\n",
              "number_diagnoses            0\n",
              "readmitted                  0\n",
              "dtype: int64"
            ]
          },
          "execution_count": 16,
          "metadata": {},
          "output_type": "execute_result"
        }
      ]
    },
    {
      "cell_type": "code",
      "metadata": {
        "colab": {
          "base_uri": "https://localhost:8080/"
        },
        "id": "UHy_MJ6zl1qL",
        "outputId": "1342eb17-cccb-465e-a10f-52690aadc195"
      },
      "source": [
        "for i in num_cols:\n",
        "  print(\"The shape of {} is {}\".format(i,len(df[i].value_counts())))\n",
        "  print(\"___________________________________________\")"
      ],
      "execution_count": null,
      "outputs": [
        {
          "name": "stdout",
          "output_type": "stream",
          "text": [
            "The shape of encounter_id is 99343\n",
            "___________________________________________\n",
            "The shape of admission_type_id is 8\n",
            "___________________________________________\n",
            "The shape of discharge_disposition_id is 21\n",
            "___________________________________________\n",
            "The shape of admission_source_id is 17\n",
            "___________________________________________\n",
            "The shape of time_in_hospital is 14\n",
            "___________________________________________\n",
            "The shape of num_lab_procedures is 118\n",
            "___________________________________________\n",
            "The shape of num_procedures is 7\n",
            "___________________________________________\n",
            "The shape of num_medications is 75\n",
            "___________________________________________\n",
            "The shape of number_outpatient is 39\n",
            "___________________________________________\n",
            "The shape of number_emergency is 33\n",
            "___________________________________________\n",
            "The shape of number_inpatient is 21\n",
            "___________________________________________\n",
            "The shape of number_diagnoses is 16\n",
            "___________________________________________\n",
            "The shape of readmitted is 2\n",
            "___________________________________________\n"
          ]
        }
      ]
    },
    {
      "cell_type": "code",
      "metadata": {
        "id": "Em2b5i3NAys7"
      },
      "source": [
        "df.drop(\"encounter_id\", inplace=True, axis=1)# This is an just identifier and not useful variable   "
      ],
      "execution_count": null,
      "outputs": []
    },
    {
      "cell_type": "code",
      "metadata": {
        "id": "WmWFZnIlguZL"
      },
      "source": [
        "id=pd.read_csv(\"IDs_mapping.csv\")"
      ],
      "execution_count": null,
      "outputs": []
    },
    {
      "cell_type": "code",
      "metadata": {
        "colab": {
          "base_uri": "https://localhost:8080/",
          "height": 423
        },
        "id": "q7IxAaW8g2QM",
        "outputId": "2670811d-60ce-4f99-ca35-8e4d2a479e57"
      },
      "source": [
        "id.head(70)"
      ],
      "execution_count": null,
      "outputs": [
        {
          "data": {
            "text/html": [
              "<div>\n",
              "<style scoped>\n",
              "    .dataframe tbody tr th:only-of-type {\n",
              "        vertical-align: middle;\n",
              "    }\n",
              "\n",
              "    .dataframe tbody tr th {\n",
              "        vertical-align: top;\n",
              "    }\n",
              "\n",
              "    .dataframe thead th {\n",
              "        text-align: right;\n",
              "    }\n",
              "</style>\n",
              "<table border=\"1\" class=\"dataframe\">\n",
              "  <thead>\n",
              "    <tr style=\"text-align: right;\">\n",
              "      <th></th>\n",
              "      <th>admission_type_id</th>\n",
              "      <th>description</th>\n",
              "    </tr>\n",
              "  </thead>\n",
              "  <tbody>\n",
              "    <tr>\n",
              "      <th>0</th>\n",
              "      <td>1</td>\n",
              "      <td>Emergency</td>\n",
              "    </tr>\n",
              "    <tr>\n",
              "      <th>1</th>\n",
              "      <td>2</td>\n",
              "      <td>Urgent</td>\n",
              "    </tr>\n",
              "    <tr>\n",
              "      <th>2</th>\n",
              "      <td>3</td>\n",
              "      <td>Elective</td>\n",
              "    </tr>\n",
              "    <tr>\n",
              "      <th>3</th>\n",
              "      <td>4</td>\n",
              "      <td>Newborn</td>\n",
              "    </tr>\n",
              "    <tr>\n",
              "      <th>4</th>\n",
              "      <td>5</td>\n",
              "      <td>Not Available</td>\n",
              "    </tr>\n",
              "    <tr>\n",
              "      <th>...</th>\n",
              "      <td>...</td>\n",
              "      <td>...</td>\n",
              "    </tr>\n",
              "    <tr>\n",
              "      <th>62</th>\n",
              "      <td>22</td>\n",
              "      <td>Transfer from hospital inpt/same fac reslt in...</td>\n",
              "    </tr>\n",
              "    <tr>\n",
              "      <th>63</th>\n",
              "      <td>23</td>\n",
              "      <td>Born inside this hospital</td>\n",
              "    </tr>\n",
              "    <tr>\n",
              "      <th>64</th>\n",
              "      <td>24</td>\n",
              "      <td>Born outside this hospital</td>\n",
              "    </tr>\n",
              "    <tr>\n",
              "      <th>65</th>\n",
              "      <td>25</td>\n",
              "      <td>Transfer from Ambulatory Surgery Center</td>\n",
              "    </tr>\n",
              "    <tr>\n",
              "      <th>66</th>\n",
              "      <td>26</td>\n",
              "      <td>Transfer from Hospice</td>\n",
              "    </tr>\n",
              "  </tbody>\n",
              "</table>\n",
              "<p>67 rows × 2 columns</p>\n",
              "</div>"
            ],
            "text/plain": [
              "   admission_type_id                                        description\n",
              "0                  1                                          Emergency\n",
              "1                  2                                             Urgent\n",
              "2                  3                                           Elective\n",
              "3                  4                                            Newborn\n",
              "4                  5                                      Not Available\n",
              "..               ...                                                ...\n",
              "62                22   Transfer from hospital inpt/same fac reslt in...\n",
              "63                23                          Born inside this hospital\n",
              "64                24                         Born outside this hospital\n",
              "65                25            Transfer from Ambulatory Surgery Center\n",
              "66                26                              Transfer from Hospice\n",
              "\n",
              "[67 rows x 2 columns]"
            ]
          },
          "execution_count": 20,
          "metadata": {},
          "output_type": "execute_result"
        }
      ]
    },
    {
      "cell_type": "code",
      "metadata": {
        "id": "JvbCcWEjVsQJ"
      },
      "source": [
        "#'admission_type_id','discharge_disposition_id','admission_source_id' are numerical , but are IDs.\n",
        "#They should be considered categorical.\n",
        "df[['admission_type_id','discharge_disposition_id','admission_source_id']]=df[['admission_type_id','discharge_disposition_id','admission_source_id']].astype(\"str\")\n",
        "df[\"readmitted\"]=df[\"readmitted\"].astype(\"str\")"
      ],
      "execution_count": null,
      "outputs": []
    },
    {
      "cell_type": "markdown",
      "metadata": {
        "id": "61S1uHwNjFOX"
      },
      "source": [
        "Exploring Categorical columns"
      ]
    },
    {
      "cell_type": "code",
      "metadata": {
        "colab": {
          "base_uri": "https://localhost:8080/"
        },
        "id": "hYYgVCncmKXE",
        "outputId": "c480e18e-5d8f-41a8-aabe-70c4bcfcf9f7"
      },
      "source": [
        "df[cat_cols].isnull().sum()"
      ],
      "execution_count": null,
      "outputs": [
        {
          "data": {
            "text/plain": [
              "race                         2234\n",
              "gender                          0\n",
              "age                             0\n",
              "weight                      96218\n",
              "payer_code                  39398\n",
              "medical_specialty           48616\n",
              "diag_1                         20\n",
              "diag_2                        356\n",
              "diag_3                       1419\n",
              "max_glu_serum                   0\n",
              "A1Cresult                       0\n",
              "metformin                       0\n",
              "repaglinide                     0\n",
              "nateglinide                     0\n",
              "chlorpropamide                  0\n",
              "glimepiride                     0\n",
              "acetohexamide                   0\n",
              "glipizide                       0\n",
              "glyburide                       0\n",
              "tolbutamide                     0\n",
              "pioglitazone                    0\n",
              "rosiglitazone                   0\n",
              "acarbose                        0\n",
              "miglitol                        0\n",
              "troglitazone                    0\n",
              "tolazamide                      0\n",
              "examide                         0\n",
              "citoglipton                     0\n",
              "insulin                         0\n",
              "glyburide-metformin             0\n",
              "glipizide-metformin             0\n",
              "glimepiride-pioglitazone        0\n",
              "metformin-rosiglitazone         0\n",
              "metformin-pioglitazone          0\n",
              "change                          0\n",
              "diabetesMed                     0\n",
              "dtype: int64"
            ]
          },
          "execution_count": 22,
          "metadata": {},
          "output_type": "execute_result"
        }
      ]
    },
    {
      "cell_type": "code",
      "metadata": {
        "colab": {
          "base_uri": "https://localhost:8080/"
        },
        "id": "hh92uxFaV7g9",
        "outputId": "a5700b15-946b-4e63-cc01-9b8cf9c4046f"
      },
      "source": [
        "for i in cat_cols:\n",
        "  print(\"The shape of {} is {}\".format(i,len(df[i].value_counts())))\n",
        "  print(\"___________________________________________\")"
      ],
      "execution_count": null,
      "outputs": [
        {
          "name": "stdout",
          "output_type": "stream",
          "text": [
            "The shape of race is 5\n",
            "___________________________________________\n",
            "The shape of gender is 3\n",
            "___________________________________________\n",
            "The shape of age is 10\n",
            "___________________________________________\n",
            "The shape of weight is 9\n",
            "___________________________________________\n",
            "The shape of payer_code is 17\n",
            "___________________________________________\n",
            "The shape of medical_specialty is 72\n",
            "___________________________________________\n",
            "The shape of diag_1 is 715\n",
            "___________________________________________\n",
            "The shape of diag_2 is 747\n",
            "___________________________________________\n",
            "The shape of diag_3 is 786\n",
            "___________________________________________\n",
            "The shape of max_glu_serum is 4\n",
            "___________________________________________\n",
            "The shape of A1Cresult is 4\n",
            "___________________________________________\n",
            "The shape of metformin is 4\n",
            "___________________________________________\n",
            "The shape of repaglinide is 4\n",
            "___________________________________________\n",
            "The shape of nateglinide is 4\n",
            "___________________________________________\n",
            "The shape of chlorpropamide is 4\n",
            "___________________________________________\n",
            "The shape of glimepiride is 4\n",
            "___________________________________________\n",
            "The shape of acetohexamide is 2\n",
            "___________________________________________\n",
            "The shape of glipizide is 4\n",
            "___________________________________________\n",
            "The shape of glyburide is 4\n",
            "___________________________________________\n",
            "The shape of tolbutamide is 2\n",
            "___________________________________________\n",
            "The shape of pioglitazone is 4\n",
            "___________________________________________\n",
            "The shape of rosiglitazone is 4\n",
            "___________________________________________\n",
            "The shape of acarbose is 4\n",
            "___________________________________________\n",
            "The shape of miglitol is 4\n",
            "___________________________________________\n",
            "The shape of troglitazone is 2\n",
            "___________________________________________\n",
            "The shape of tolazamide is 3\n",
            "___________________________________________\n",
            "The shape of examide is 1\n",
            "___________________________________________\n",
            "The shape of citoglipton is 1\n",
            "___________________________________________\n",
            "The shape of insulin is 4\n",
            "___________________________________________\n",
            "The shape of glyburide-metformin is 4\n",
            "___________________________________________\n",
            "The shape of glipizide-metformin is 2\n",
            "___________________________________________\n",
            "The shape of glimepiride-pioglitazone is 2\n",
            "___________________________________________\n",
            "The shape of metformin-rosiglitazone is 2\n",
            "___________________________________________\n",
            "The shape of metformin-pioglitazone is 2\n",
            "___________________________________________\n",
            "The shape of change is 2\n",
            "___________________________________________\n",
            "The shape of diabetesMed is 2\n",
            "___________________________________________\n"
          ]
        }
      ]
    },
    {
      "cell_type": "code",
      "metadata": {
        "id": "tQS5HgEjjyy-"
      },
      "source": [
        "#payer_code and medical_speciality have many categorical variables. we will consider them when making features.\n",
        "#diag1, diag2, diag3 have lot of values.Hence we will drop them out. \n",
        "df.drop([\"diag_1\", \"diag_2\",\"diag_3\"], inplace=True,axis=1)"
      ],
      "execution_count": null,
      "outputs": []
    },
    {
      "cell_type": "code",
      "metadata": {
        "id": "Wo02410xmxxh"
      },
      "source": [
        "#Weight has too many null values.Hence dropping weight column\n",
        "df.drop([\"weight\"], inplace=True,axis=1)"
      ],
      "execution_count": null,
      "outputs": []
    },
    {
      "cell_type": "code",
      "metadata": {
        "id": "1U-BOKAglH3O"
      },
      "source": [
        "#race, payer_code and medical_specialty have null values. We will fill these null values with \"UNK\" as these are categorical columns.\n",
        "df[\"race\"]=df[\"race\"].fillna(\"UNK\")\n",
        "df[\"payer_code\"]=df[\"payer_code\"].fillna(\"UNK\")\n",
        "df[\"medical_specialty\"]=df[\"medical_specialty\"].fillna(\"UNK\")"
      ],
      "execution_count": null,
      "outputs": []
    },
    {
      "cell_type": "code",
      "metadata": {
        "colab": {
          "base_uri": "https://localhost:8080/"
        },
        "id": "32XcVowimDxo",
        "outputId": "8a711208-b84f-4d2a-d7f7-726e7855990c"
      },
      "source": [
        "#Let us explore Medical_specialty.\n",
        "df[\"medical_specialty\"].value_counts().head(15)"
      ],
      "execution_count": null,
      "outputs": [
        {
          "data": {
            "text/plain": [
              "UNK                                48616\n",
              "InternalMedicine                   14237\n",
              "Emergency/Trauma                    7419\n",
              "Family/GeneralPractice              7252\n",
              "Cardiology                          5279\n",
              "Surgery-General                     3059\n",
              "Nephrology                          1539\n",
              "Orthopedics                         1392\n",
              "Orthopedics-Reconstructive          1230\n",
              "Radiologist                         1121\n",
              "Pulmonology                          854\n",
              "Psychiatry                           853\n",
              "Urology                              682\n",
              "ObstetricsandGynecology              669\n",
              "Surgery-Cardiovascular/Thoracic      642\n",
              "Name: medical_specialty, dtype: int64"
            ]
          },
          "execution_count": 27,
          "metadata": {},
          "output_type": "execute_result"
        }
      ]
    },
    {
      "cell_type": "code",
      "metadata": {
        "id": "uGowFOZRocMd"
      },
      "source": [
        "#We can see that most of them unknown and count decreases drastically for other categories.\n",
        "#We will create a new variable that has 11 options(the top 10 specialities and then an \"other category\") we are bucketing the values here.\n",
        "\n",
        "top10=df[\"medical_specialty\"].value_counts().head(10).index\n",
        "\n",
        "df[\"new_med_spec\"]=df[\"medical_specialty\"].copy\n",
        "#dropping out medical specialty column \n",
        "df.drop([\"medical_specialty\"], inplace=True,axis=1)"
      ],
      "execution_count": null,
      "outputs": []
    },
    {
      "cell_type": "code",
      "metadata": {
        "id": "35rlAtm5pV31"
      },
      "source": [
        "df.loc[~df.new_med_spec.isin(top10),\"new_med_spec\"]=\"Other\""
      ],
      "execution_count": null,
      "outputs": []
    },
    {
      "cell_type": "code",
      "metadata": {
        "colab": {
          "base_uri": "https://localhost:8080/"
        },
        "id": "-L9lW1qapXKN",
        "outputId": "6ce6fbc4-f3ad-42ef-f54a-ee5bb8fb8085"
      },
      "source": [
        "#Let us explore age column\n",
        "df.age.value_counts().index"
      ],
      "execution_count": null,
      "outputs": [
        {
          "data": {
            "text/plain": [
              "Int64Index([80, 70, 60, 50, 40, 30, 90, 20, 10, 0], dtype='int64')"
            ]
          },
          "execution_count": 40,
          "metadata": {},
          "output_type": "execute_result"
        }
      ]
    },
    {
      "cell_type": "code",
      "metadata": {
        "id": "ezl_K0vLsNCq"
      },
      "source": [
        "#Mapping 0 to 90 by 10's as we need numerical data.\n",
        "num_age={'[70-80)':80, '[60-70)':70, '[50-60)':60, '[80-90)':50, '[40-50)':40, '[30-40)':30,\n",
        "       '[90-100)':90, '[20-30)':20, '[10-20)':10, '[0-10)':0}\n",
        "df[\"age\"]=df.age.map(num_age)"
      ],
      "execution_count": null,
      "outputs": []
    },
    {
      "cell_type": "code",
      "metadata": {
        "colab": {
          "base_uri": "https://localhost:8080/",
          "height": 243
        },
        "id": "qelw23SyuHRf",
        "outputId": "5aaab6cf-c47e-4b83-e14b-e8b00440053b"
      },
      "source": [
        "df.head()"
      ],
      "execution_count": null,
      "outputs": [
        {
          "data": {
            "text/html": [
              "<div>\n",
              "<style scoped>\n",
              "    .dataframe tbody tr th:only-of-type {\n",
              "        vertical-align: middle;\n",
              "    }\n",
              "\n",
              "    .dataframe tbody tr th {\n",
              "        vertical-align: top;\n",
              "    }\n",
              "\n",
              "    .dataframe thead th {\n",
              "        text-align: right;\n",
              "    }\n",
              "</style>\n",
              "<table border=\"1\" class=\"dataframe\">\n",
              "  <thead>\n",
              "    <tr style=\"text-align: right;\">\n",
              "      <th></th>\n",
              "      <th>race</th>\n",
              "      <th>gender</th>\n",
              "      <th>age</th>\n",
              "      <th>admission_type_id</th>\n",
              "      <th>discharge_disposition_id</th>\n",
              "      <th>admission_source_id</th>\n",
              "      <th>time_in_hospital</th>\n",
              "      <th>payer_code</th>\n",
              "      <th>num_lab_procedures</th>\n",
              "      <th>num_procedures</th>\n",
              "      <th>num_medications</th>\n",
              "      <th>number_outpatient</th>\n",
              "      <th>number_emergency</th>\n",
              "      <th>number_inpatient</th>\n",
              "      <th>number_diagnoses</th>\n",
              "      <th>max_glu_serum</th>\n",
              "      <th>A1Cresult</th>\n",
              "      <th>metformin</th>\n",
              "      <th>repaglinide</th>\n",
              "      <th>nateglinide</th>\n",
              "      <th>chlorpropamide</th>\n",
              "      <th>glimepiride</th>\n",
              "      <th>acetohexamide</th>\n",
              "      <th>glipizide</th>\n",
              "      <th>glyburide</th>\n",
              "      <th>tolbutamide</th>\n",
              "      <th>pioglitazone</th>\n",
              "      <th>rosiglitazone</th>\n",
              "      <th>acarbose</th>\n",
              "      <th>miglitol</th>\n",
              "      <th>troglitazone</th>\n",
              "      <th>tolazamide</th>\n",
              "      <th>examide</th>\n",
              "      <th>citoglipton</th>\n",
              "      <th>insulin</th>\n",
              "      <th>glyburide-metformin</th>\n",
              "      <th>glipizide-metformin</th>\n",
              "      <th>glimepiride-pioglitazone</th>\n",
              "      <th>metformin-rosiglitazone</th>\n",
              "      <th>metformin-pioglitazone</th>\n",
              "      <th>change</th>\n",
              "      <th>diabetesMed</th>\n",
              "      <th>readmitted</th>\n",
              "      <th>new_med_spec</th>\n",
              "    </tr>\n",
              "  </thead>\n",
              "  <tbody>\n",
              "    <tr>\n",
              "      <th>0</th>\n",
              "      <td>Caucasian</td>\n",
              "      <td>Female</td>\n",
              "      <td>NaN</td>\n",
              "      <td>6</td>\n",
              "      <td>25</td>\n",
              "      <td>1</td>\n",
              "      <td>1</td>\n",
              "      <td>UNK</td>\n",
              "      <td>41</td>\n",
              "      <td>0</td>\n",
              "      <td>1</td>\n",
              "      <td>0</td>\n",
              "      <td>0</td>\n",
              "      <td>0</td>\n",
              "      <td>1</td>\n",
              "      <td>None</td>\n",
              "      <td>None</td>\n",
              "      <td>No</td>\n",
              "      <td>No</td>\n",
              "      <td>No</td>\n",
              "      <td>No</td>\n",
              "      <td>No</td>\n",
              "      <td>No</td>\n",
              "      <td>No</td>\n",
              "      <td>No</td>\n",
              "      <td>No</td>\n",
              "      <td>No</td>\n",
              "      <td>No</td>\n",
              "      <td>No</td>\n",
              "      <td>No</td>\n",
              "      <td>No</td>\n",
              "      <td>No</td>\n",
              "      <td>No</td>\n",
              "      <td>No</td>\n",
              "      <td>No</td>\n",
              "      <td>No</td>\n",
              "      <td>No</td>\n",
              "      <td>No</td>\n",
              "      <td>No</td>\n",
              "      <td>No</td>\n",
              "      <td>No</td>\n",
              "      <td>No</td>\n",
              "      <td>0</td>\n",
              "      <td>Other</td>\n",
              "    </tr>\n",
              "    <tr>\n",
              "      <th>1</th>\n",
              "      <td>Caucasian</td>\n",
              "      <td>Female</td>\n",
              "      <td>NaN</td>\n",
              "      <td>1</td>\n",
              "      <td>1</td>\n",
              "      <td>7</td>\n",
              "      <td>3</td>\n",
              "      <td>UNK</td>\n",
              "      <td>59</td>\n",
              "      <td>0</td>\n",
              "      <td>18</td>\n",
              "      <td>0</td>\n",
              "      <td>0</td>\n",
              "      <td>0</td>\n",
              "      <td>9</td>\n",
              "      <td>None</td>\n",
              "      <td>None</td>\n",
              "      <td>No</td>\n",
              "      <td>No</td>\n",
              "      <td>No</td>\n",
              "      <td>No</td>\n",
              "      <td>No</td>\n",
              "      <td>No</td>\n",
              "      <td>No</td>\n",
              "      <td>No</td>\n",
              "      <td>No</td>\n",
              "      <td>No</td>\n",
              "      <td>No</td>\n",
              "      <td>No</td>\n",
              "      <td>No</td>\n",
              "      <td>No</td>\n",
              "      <td>No</td>\n",
              "      <td>No</td>\n",
              "      <td>No</td>\n",
              "      <td>Up</td>\n",
              "      <td>No</td>\n",
              "      <td>No</td>\n",
              "      <td>No</td>\n",
              "      <td>No</td>\n",
              "      <td>No</td>\n",
              "      <td>Ch</td>\n",
              "      <td>Yes</td>\n",
              "      <td>0</td>\n",
              "      <td>Other</td>\n",
              "    </tr>\n",
              "    <tr>\n",
              "      <th>2</th>\n",
              "      <td>AfricanAmerican</td>\n",
              "      <td>Female</td>\n",
              "      <td>NaN</td>\n",
              "      <td>1</td>\n",
              "      <td>1</td>\n",
              "      <td>7</td>\n",
              "      <td>2</td>\n",
              "      <td>UNK</td>\n",
              "      <td>11</td>\n",
              "      <td>5</td>\n",
              "      <td>13</td>\n",
              "      <td>2</td>\n",
              "      <td>0</td>\n",
              "      <td>1</td>\n",
              "      <td>6</td>\n",
              "      <td>None</td>\n",
              "      <td>None</td>\n",
              "      <td>No</td>\n",
              "      <td>No</td>\n",
              "      <td>No</td>\n",
              "      <td>No</td>\n",
              "      <td>No</td>\n",
              "      <td>No</td>\n",
              "      <td>Steady</td>\n",
              "      <td>No</td>\n",
              "      <td>No</td>\n",
              "      <td>No</td>\n",
              "      <td>No</td>\n",
              "      <td>No</td>\n",
              "      <td>No</td>\n",
              "      <td>No</td>\n",
              "      <td>No</td>\n",
              "      <td>No</td>\n",
              "      <td>No</td>\n",
              "      <td>No</td>\n",
              "      <td>No</td>\n",
              "      <td>No</td>\n",
              "      <td>No</td>\n",
              "      <td>No</td>\n",
              "      <td>No</td>\n",
              "      <td>No</td>\n",
              "      <td>Yes</td>\n",
              "      <td>0</td>\n",
              "      <td>Other</td>\n",
              "    </tr>\n",
              "    <tr>\n",
              "      <th>3</th>\n",
              "      <td>Caucasian</td>\n",
              "      <td>Male</td>\n",
              "      <td>NaN</td>\n",
              "      <td>1</td>\n",
              "      <td>1</td>\n",
              "      <td>7</td>\n",
              "      <td>2</td>\n",
              "      <td>UNK</td>\n",
              "      <td>44</td>\n",
              "      <td>1</td>\n",
              "      <td>16</td>\n",
              "      <td>0</td>\n",
              "      <td>0</td>\n",
              "      <td>0</td>\n",
              "      <td>7</td>\n",
              "      <td>None</td>\n",
              "      <td>None</td>\n",
              "      <td>No</td>\n",
              "      <td>No</td>\n",
              "      <td>No</td>\n",
              "      <td>No</td>\n",
              "      <td>No</td>\n",
              "      <td>No</td>\n",
              "      <td>No</td>\n",
              "      <td>No</td>\n",
              "      <td>No</td>\n",
              "      <td>No</td>\n",
              "      <td>No</td>\n",
              "      <td>No</td>\n",
              "      <td>No</td>\n",
              "      <td>No</td>\n",
              "      <td>No</td>\n",
              "      <td>No</td>\n",
              "      <td>No</td>\n",
              "      <td>Up</td>\n",
              "      <td>No</td>\n",
              "      <td>No</td>\n",
              "      <td>No</td>\n",
              "      <td>No</td>\n",
              "      <td>No</td>\n",
              "      <td>Ch</td>\n",
              "      <td>Yes</td>\n",
              "      <td>0</td>\n",
              "      <td>Other</td>\n",
              "    </tr>\n",
              "    <tr>\n",
              "      <th>4</th>\n",
              "      <td>Caucasian</td>\n",
              "      <td>Male</td>\n",
              "      <td>NaN</td>\n",
              "      <td>1</td>\n",
              "      <td>1</td>\n",
              "      <td>7</td>\n",
              "      <td>1</td>\n",
              "      <td>UNK</td>\n",
              "      <td>51</td>\n",
              "      <td>0</td>\n",
              "      <td>8</td>\n",
              "      <td>0</td>\n",
              "      <td>0</td>\n",
              "      <td>0</td>\n",
              "      <td>5</td>\n",
              "      <td>None</td>\n",
              "      <td>None</td>\n",
              "      <td>No</td>\n",
              "      <td>No</td>\n",
              "      <td>No</td>\n",
              "      <td>No</td>\n",
              "      <td>No</td>\n",
              "      <td>No</td>\n",
              "      <td>Steady</td>\n",
              "      <td>No</td>\n",
              "      <td>No</td>\n",
              "      <td>No</td>\n",
              "      <td>No</td>\n",
              "      <td>No</td>\n",
              "      <td>No</td>\n",
              "      <td>No</td>\n",
              "      <td>No</td>\n",
              "      <td>No</td>\n",
              "      <td>No</td>\n",
              "      <td>Steady</td>\n",
              "      <td>No</td>\n",
              "      <td>No</td>\n",
              "      <td>No</td>\n",
              "      <td>No</td>\n",
              "      <td>No</td>\n",
              "      <td>Ch</td>\n",
              "      <td>Yes</td>\n",
              "      <td>0</td>\n",
              "      <td>Other</td>\n",
              "    </tr>\n",
              "  </tbody>\n",
              "</table>\n",
              "</div>"
            ],
            "text/plain": [
              "              race  gender  age  ... diabetesMed readmitted new_med_spec\n",
              "0        Caucasian  Female  NaN  ...          No          0        Other\n",
              "1        Caucasian  Female  NaN  ...         Yes          0        Other\n",
              "2  AfricanAmerican  Female  NaN  ...         Yes          0        Other\n",
              "3        Caucasian    Male  NaN  ...         Yes          0        Other\n",
              "4        Caucasian    Male  NaN  ...         Yes          0        Other\n",
              "\n",
              "[5 rows x 44 columns]"
            ]
          },
          "execution_count": 42,
          "metadata": {},
          "output_type": "execute_result"
        }
      ]
    },
    {
      "cell_type": "code",
      "metadata": {
        "id": "Rpe6uqbouVDS"
      },
      "source": [
        "#Let us explore data types again now\n",
        "#We will one hot encode the categorical columns."
      ],
      "execution_count": null,
      "outputs": []
    },
    {
      "cell_type": "code",
      "metadata": {
        "id": "9ylTjbGUu0WK"
      },
      "source": [
        "new_num_cols=[]\n",
        "new_cat_cols=[]\n",
        "for i in df.columns:\n",
        "  if df[i].dtypes==\"int64\":\n",
        "    new_num_cols.append(i)\n",
        "  else :\n",
        "    new_cat_cols.append(i)"
      ],
      "execution_count": null,
      "outputs": []
    },
    {
      "cell_type": "code",
      "metadata": {
        "colab": {
          "base_uri": "https://localhost:8080/"
        },
        "id": "JmboEfTNvrO3",
        "outputId": "4ed8c4bd-c2c8-464d-aedb-c9d9e67145c7"
      },
      "source": [
        "new_cat_cols"
      ],
      "execution_count": null,
      "outputs": [
        {
          "data": {
            "text/plain": [
              "['race',\n",
              " 'gender',\n",
              " 'age',\n",
              " 'admission_type_id',\n",
              " 'discharge_disposition_id',\n",
              " 'admission_source_id',\n",
              " 'payer_code',\n",
              " 'max_glu_serum',\n",
              " 'A1Cresult',\n",
              " 'metformin',\n",
              " 'repaglinide',\n",
              " 'nateglinide',\n",
              " 'chlorpropamide',\n",
              " 'glimepiride',\n",
              " 'acetohexamide',\n",
              " 'glipizide',\n",
              " 'glyburide',\n",
              " 'tolbutamide',\n",
              " 'pioglitazone',\n",
              " 'rosiglitazone',\n",
              " 'acarbose',\n",
              " 'miglitol',\n",
              " 'troglitazone',\n",
              " 'tolazamide',\n",
              " 'examide',\n",
              " 'citoglipton',\n",
              " 'insulin',\n",
              " 'glyburide-metformin',\n",
              " 'glipizide-metformin',\n",
              " 'glimepiride-pioglitazone',\n",
              " 'metformin-rosiglitazone',\n",
              " 'metformin-pioglitazone',\n",
              " 'change',\n",
              " 'diabetesMed',\n",
              " 'readmitted',\n",
              " 'new_med_spec']"
            ]
          },
          "execution_count": 45,
          "metadata": {},
          "output_type": "execute_result"
        }
      ]
    },
    {
      "cell_type": "code",
      "metadata": {
        "colab": {
          "base_uri": "https://localhost:8080/"
        },
        "id": "EIVrQrGISryj",
        "outputId": "0cc02df9-7391-4767-e5c8-a881a5af4ac5"
      },
      "source": [
        "for i in new_cat_cols:\n",
        "  print(\"The shape of {} is {}\".format(i,len(df[i].value_counts())))\n",
        "  print(\"___________________________________________\")"
      ],
      "execution_count": null,
      "outputs": [
        {
          "name": "stdout",
          "output_type": "stream",
          "text": [
            "The shape of race is 6\n",
            "___________________________________________\n",
            "The shape of gender is 3\n",
            "___________________________________________\n",
            "The shape of age is 0\n",
            "___________________________________________\n",
            "The shape of admission_type_id is 8\n",
            "___________________________________________\n",
            "The shape of discharge_disposition_id is 21\n",
            "___________________________________________\n",
            "The shape of admission_source_id is 17\n",
            "___________________________________________\n",
            "The shape of payer_code is 18\n",
            "___________________________________________\n",
            "The shape of max_glu_serum is 4\n",
            "___________________________________________\n",
            "The shape of A1Cresult is 4\n",
            "___________________________________________\n",
            "The shape of metformin is 4\n",
            "___________________________________________\n",
            "The shape of repaglinide is 4\n",
            "___________________________________________\n",
            "The shape of nateglinide is 4\n",
            "___________________________________________\n",
            "The shape of chlorpropamide is 4\n",
            "___________________________________________\n",
            "The shape of glimepiride is 4\n",
            "___________________________________________\n",
            "The shape of acetohexamide is 2\n",
            "___________________________________________\n",
            "The shape of glipizide is 4\n",
            "___________________________________________\n",
            "The shape of glyburide is 4\n",
            "___________________________________________\n",
            "The shape of tolbutamide is 2\n",
            "___________________________________________\n",
            "The shape of pioglitazone is 4\n",
            "___________________________________________\n",
            "The shape of rosiglitazone is 4\n",
            "___________________________________________\n",
            "The shape of acarbose is 4\n",
            "___________________________________________\n",
            "The shape of miglitol is 4\n",
            "___________________________________________\n",
            "The shape of troglitazone is 2\n",
            "___________________________________________\n",
            "The shape of tolazamide is 3\n",
            "___________________________________________\n",
            "The shape of examide is 1\n",
            "___________________________________________\n",
            "The shape of citoglipton is 1\n",
            "___________________________________________\n",
            "The shape of insulin is 4\n",
            "___________________________________________\n",
            "The shape of glyburide-metformin is 4\n",
            "___________________________________________\n",
            "The shape of glipizide-metformin is 2\n",
            "___________________________________________\n",
            "The shape of glimepiride-pioglitazone is 2\n",
            "___________________________________________\n",
            "The shape of metformin-rosiglitazone is 2\n",
            "___________________________________________\n",
            "The shape of metformin-pioglitazone is 2\n",
            "___________________________________________\n",
            "The shape of change is 2\n",
            "___________________________________________\n",
            "The shape of diabetesMed is 2\n",
            "___________________________________________\n",
            "The shape of readmitted is 2\n",
            "___________________________________________\n",
            "The shape of new_med_spec is 1\n",
            "___________________________________________\n"
          ]
        }
      ]
    },
    {
      "cell_type": "code",
      "metadata": {
        "colab": {
          "base_uri": "https://localhost:8080/",
          "height": 35
        },
        "id": "RnT99leEvtJy",
        "outputId": "7f8dc582-c248-40d3-d35d-a00bdce5a3f9"
      },
      "source": [
        "new_cat_cols.pop(-2)#popping out our output variable \"readmitted\" to one hot encode all other categorical variables."
      ],
      "execution_count": null,
      "outputs": [
        {
          "data": {
            "application/vnd.google.colaboratory.intrinsic+json": {
              "type": "string"
            },
            "text/plain": [
              "'readmitted'"
            ]
          },
          "execution_count": 48,
          "metadata": {},
          "output_type": "execute_result"
        }
      ]
    },
    {
      "cell_type": "code",
      "metadata": {
        "id": "GT-IkevBwT4T"
      },
      "source": [
        "#One hot encoding the categorical columns other than readmitted.\n",
        "df_cat=pd.get_dummies(df[new_cat_cols], drop_first=True)"
      ],
      "execution_count": null,
      "outputs": []
    },
    {
      "cell_type": "code",
      "metadata": {
        "id": "jyboR8ZrwWV0"
      },
      "source": [
        "df=pd.concat([df,df_cat], axis=1)"
      ],
      "execution_count": null,
      "outputs": []
    },
    {
      "cell_type": "code",
      "metadata": {
        "id": "r8k0QraEw-Ut"
      },
      "source": [
        "df.drop(new_cat_cols,axis=1, inplace=True)"
      ],
      "execution_count": null,
      "outputs": []
    },
    {
      "cell_type": "code",
      "metadata": {
        "colab": {
          "base_uri": "https://localhost:8080/"
        },
        "id": "tfgavRgnxGzU",
        "outputId": "91cc3f7e-57ec-487b-dce2-7762abb25d12"
      },
      "source": [
        "df.shape"
      ],
      "execution_count": null,
      "outputs": [
        {
          "data": {
            "text/plain": [
              "(99343, 132)"
            ]
          },
          "execution_count": 53,
          "metadata": {},
          "output_type": "execute_result"
        }
      ]
    },
    {
      "cell_type": "markdown",
      "metadata": {
        "id": "nOBZ3D73ylAM"
      },
      "source": [
        "Building Training and Test samples"
      ]
    },
    {
      "cell_type": "code",
      "metadata": {
        "id": "0kWNlTDU1ypo"
      },
      "source": [
        "X=df.drop(\"readmitted\",axis=1)\n",
        "y=df[\"readmitted\"]"
      ],
      "execution_count": null,
      "outputs": []
    },
    {
      "cell_type": "code",
      "metadata": {
        "id": "LLekz9C1xXif"
      },
      "source": [
        "#Normalizing the data through StandardScaler\n",
        "\n",
        "from sklearn.preprocessing import StandardScaler\n",
        "\n",
        "scaler=StandardScaler()\n",
        "X_scaled=pd.DataFrame(scaler.fit_transform(X), columns=X.columns)"
      ],
      "execution_count": null,
      "outputs": []
    },
    {
      "cell_type": "markdown",
      "metadata": {
        "id": "ppNHQY-o2Euy"
      },
      "source": [
        "Addressing Imbalanced Dataset."
      ]
    },
    {
      "cell_type": "code",
      "metadata": {
        "id": "pxG9VWO92h7i"
      },
      "source": [
        "X_train, X_test, y_train, y_test = train_test_split(X_scaled, y, test_size = 0.3, stratify = y, random_state = 42)"
      ],
      "execution_count": null,
      "outputs": []
    },
    {
      "cell_type": "code",
      "metadata": {
        "colab": {
          "base_uri": "https://localhost:8080/",
          "height": 404
        },
        "id": "5VGqCZCG25jl",
        "outputId": "e32583cf-87fd-4b60-f724-aab07ae03a08"
      },
      "source": [
        "plt.figure(figsize=(8,6))\n",
        "sns.countplot(y_train, palette='deep')\n",
        "sns.despine()\n",
        "plt.title('Imbalanced Dataset')\n",
        "plt.xticks([0,1],['Not Readmitted', 'Readmitted'])\n",
        "plt.show()"
      ],
      "execution_count": null,
      "outputs": [
        {
          "data": {
            "image/png": "[encoded data removed]",
            "text/plain": [
              "<Figure size 576x432 with 1 Axes>"
            ]
          },
          "metadata": {},
          "output_type": "display_data"
        }
      ]
    },
    {
      "cell_type": "code",
      "metadata": {
        "id": "21sz79BWxiVX"
      },
      "source": [
        "#Remedy to imbalanced Dataset is to upsample the minority class in our training dataset through SMOTE(Synthetic Minority Oversampling Technique(SMOTE))\n",
        "\n",
        "from imblearn.over_sampling import SMOTE \n",
        "sm = SMOTE(random_state=42)\n",
        "X_train_res, y_train_res = sm.fit_sample(X_train, y_train)"
      ],
      "execution_count": null,
      "outputs": []
    },
    {
      "cell_type": "code",
      "metadata": {
        "colab": {
          "base_uri": "https://localhost:8080/",
          "height": 390
        },
        "id": "e70MHRFb3BAj",
        "outputId": "210ff27b-8274-4735-b108-325c0a68fc2b"
      },
      "source": [
        "plt.figure(figsize=(8,6))\n",
        "sns.countplot(y_train_res, palette='deep')\n",
        "sns.despine()\n",
        "plt.title('Balanced Dataset')\n",
        "plt.xticks([0,1],['Not Readmitted', 'Readmitted'])\n",
        "plt.show()"
      ],
      "execution_count": null,
      "outputs": [
        {
          "data": {
            "image/png": "[encoded data removed]",
            "text/plain": [
              "<Figure size 576x432 with 1 Axes>"
            ]
          },
          "metadata": {},
          "output_type": "display_data"
        }
      ]
    },
    {
      "cell_type": "markdown",
      "metadata": {
        "id": "aY5cEjZ13ORa"
      },
      "source": [
        "Base Machine Learning Algorithms"
      ]
    },
    {
      "cell_type": "code",
      "metadata": {
        "id": "Betnf9Lz3e0H"
      },
      "source": [
        "# Plot Confusion Matrix\n",
        "def plot_cm(estimator,title):\n",
        "    '''Plots confusion matrix\n",
        "    \n",
        "    Plots confusion matrix\n",
        "    \n",
        "    Args:\n",
        "        model: \n",
        "            Trained (fitted) ML algorithm\n",
        "        title:\n",
        "            Machine algorithm that corresponds with the estimator to insert into title of plot\n",
        "    Returns: \n",
        "        Plot of confusion matrix for unseen test data set\n",
        "        \n",
        "    '''        \n",
        "    \n",
        "    from sklearn.metrics import plot_confusion_matrix\n",
        "    \n",
        "    plt.figure(figsize=(10,8))\n",
        "    plot_confusion_matrix(estimator, X=X_test, y_true=y_test, \n",
        "                          display_labels=['Not Readmitted', 'Readmitted'], \n",
        "                          cmap='Blues', values_format='d')\n",
        "    plt.title(str(title)+' '+'Confusion Matrix')"
      ],
      "execution_count": null,
      "outputs": []
    },
    {
      "cell_type": "code",
      "metadata": {
        "colab": {
          "base_uri": "https://localhost:8080/"
        },
        "id": "azXHEl5N3IFw",
        "outputId": "debade7b-9aee-4007-f663-346c65473be5"
      },
      "source": [
        "dt_clf = DecisionTreeClassifier()\n",
        "dt_clf.fit(X_train_res, y_train_res)"
      ],
      "execution_count": null,
      "outputs": [
        {
          "data": {
            "text/plain": [
              "DecisionTreeClassifier(ccp_alpha=0.0, class_weight=None, criterion='gini',\n",
              "                       max_depth=None, max_features=None, max_leaf_nodes=None,\n",
              "                       min_impurity_decrease=0.0, min_impurity_split=None,\n",
              "                       min_samples_leaf=1, min_samples_split=2,\n",
              "                       min_weight_fraction_leaf=0.0, presort='deprecated',\n",
              "                       random_state=None, splitter='best')"
            ]
          },
          "execution_count": 73,
          "metadata": {},
          "output_type": "execute_result"
        }
      ]
    },
    {
      "cell_type": "code",
      "metadata": {
        "colab": {
          "base_uri": "https://localhost:8080/",
          "height": 313
        },
        "id": "NrYsI1_V3t6j",
        "outputId": "6d39b7d9-51ac-41d1-b1ca-a95d14927140"
      },
      "source": [
        "plot_cm(dt_clf, \"Decision Tree Classifier\")"
      ],
      "execution_count": null,
      "outputs": [
        {
          "data": {
            "text/plain": [
              "<Figure size 720x576 with 0 Axes>"
            ]
          },
          "metadata": {},
          "output_type": "display_data"
        },
        {
          "data": {
            "image/png": "[encoded data removed]",
            "text/plain": [
              "<Figure size 432x288 with 2 Axes>"
            ]
          },
          "metadata": {},
          "output_type": "display_data"
        }
      ]
    },
    {
      "cell_type": "code",
      "metadata": {
        "colab": {
          "base_uri": "https://localhost:8080/"
        },
        "id": "ppM6eblp6bTS",
        "outputId": "00e8d0a7-21db-43e0-e35e-bfc16e259b06"
      },
      "source": [
        "logmodel = LogisticRegression()\n",
        "logmodel.fit(X_train_res, y_train_res)"
      ],
      "execution_count": null,
      "outputs": [
        {
          "data": {
            "text/plain": [
              "LogisticRegression(C=1.0, class_weight=None, dual=False, fit_intercept=True,\n",
              "                   intercept_scaling=1, l1_ratio=None, max_iter=100,\n",
              "                   multi_class='auto', n_jobs=None, penalty='l2',\n",
              "                   random_state=None, solver='lbfgs', tol=0.0001, verbose=0,\n",
              "                   warm_start=False)"
            ]
          },
          "execution_count": 79,
          "metadata": {},
          "output_type": "execute_result"
        }
      ]
    },
    {
      "cell_type": "code",
      "metadata": {
        "colab": {
          "base_uri": "https://localhost:8080/",
          "height": 313
        },
        "id": "ux_5Acj77UlA",
        "outputId": "27f2c9a0-700b-4995-841d-53e4b006ec06"
      },
      "source": [
        "plot_cm(logmodel, 'Logistic Regression')"
      ],
      "execution_count": null,
      "outputs": [
        {
          "data": {
            "text/plain": [
              "<Figure size 720x576 with 0 Axes>"
            ]
          },
          "metadata": {},
          "output_type": "display_data"
        },
        {
          "data": {
            "image/png": "[encoded data removed]",
            "text/plain": [
              "<Figure size 432x288 with 2 Axes>"
            ]
          },
          "metadata": {},
          "output_type": "display_data"
        }
      ]
    },
    {
      "cell_type": "code",
      "metadata": {
        "id": "SryjZNZ_7cTn"
      },
      "source": [
        "from sklearn.ensemble import RandomForestClassifier\n",
        "\n",
        "rf_clf = RandomForestClassifier(n_jobs = -1)\n",
        "\n",
        "rf_clf.fit(X_train_res, y_train_res)\n",
        "rf_preds = rf_clf.predict(X_test)"
      ],
      "execution_count": null,
      "outputs": []
    },
    {
      "cell_type": "code",
      "metadata": {
        "colab": {
          "base_uri": "https://localhost:8080/",
          "height": 313
        },
        "id": "pVv2WOR37fu5",
        "outputId": "49e969ea-cc7a-4675-d37b-d3d2750258cd"
      },
      "source": [
        "plot_cm(rf_clf, 'Random Forest')"
      ],
      "execution_count": null,
      "outputs": [
        {
          "data": {
            "text/plain": [
              "<Figure size 720x576 with 0 Axes>"
            ]
          },
          "metadata": {},
          "output_type": "display_data"
        },
        {
          "data": {
            "image/png": "[encoded data removed]",
            "text/plain": [
              "<Figure size 432x288 with 2 Axes>"
            ]
          },
          "metadata": {},
          "output_type": "display_data"
        }
      ]
    },
    {
      "cell_type": "markdown",
      "metadata": {
        "id": "h0y4b5Nr8H2n"
      },
      "source": [
        "Decision Tree Hyperparameter Tuning"
      ]
    },
    {
      "cell_type": "code",
      "metadata": {
        "colab": {
          "base_uri": "https://localhost:8080/"
        },
        "id": "uPciWKKo8MBS",
        "outputId": "7079ceec-07e9-4361-e0a9-7c77beaab290"
      },
      "source": [
        "max_depth = list(range(1,15,2))\n",
        "max_features = list(range(1,9))\n",
        "min_samples_leaf = list(range(2,10,2))\n",
        "criterion = ['gini', 'entropy']\n",
        "\n",
        "\n",
        "params_dt = {'max_depth':max_depth, \n",
        "            'max_features':max_features, \n",
        "            'min_samples_leaf':min_samples_leaf,\n",
        "            'criterion':criterion}\n",
        "\n",
        "dt = DecisionTreeClassifier()\n",
        "\n",
        "dt_cv = GridSearchCV(dt, params_dt, cv=5, verbose=1, n_jobs=-1)\n",
        "\n",
        "dt_cv.fit(X_train_res, y_train_res)"
      ],
      "execution_count": null,
      "outputs": [
        {
          "name": "stdout",
          "output_type": "stream",
          "text": [
            "Fitting 5 folds for each of 448 candidates, totalling 2240 fits\n"
          ]
        },
        {
          "name": "stderr",
          "output_type": "stream",
          "text": [
            "[Parallel(n_jobs=-1)]: Using backend LokyBackend with 2 concurrent workers.\n",
            "[Parallel(n_jobs=-1)]: Done  46 tasks      | elapsed:   13.3s\n",
            "[Parallel(n_jobs=-1)]: Done 196 tasks      | elapsed:   51.3s\n",
            "[Parallel(n_jobs=-1)]: Done 446 tasks      | elapsed:  2.0min\n",
            "[Parallel(n_jobs=-1)]: Done 796 tasks      | elapsed:  3.8min\n",
            "[Parallel(n_jobs=-1)]: Done 1246 tasks      | elapsed:  6.2min\n",
            "[Parallel(n_jobs=-1)]: Done 1796 tasks      | elapsed:  8.9min\n",
            "[Parallel(n_jobs=-1)]: Done 2240 out of 2240 | elapsed: 11.5min finished\n"
          ]
        },
        {
          "data": {
            "text/plain": [
              "GridSearchCV(cv=5, error_score=nan,\n",
              "             estimator=DecisionTreeClassifier(ccp_alpha=0.0, class_weight=None,\n",
              "                                              criterion='gini', max_depth=None,\n",
              "                                              max_features=None,\n",
              "                                              max_leaf_nodes=None,\n",
              "                                              min_impurity_decrease=0.0,\n",
              "                                              min_impurity_split=None,\n",
              "                                              min_samples_leaf=1,\n",
              "                                              min_samples_split=2,\n",
              "                                              min_weight_fraction_leaf=0.0,\n",
              "                                              presort='deprecated',\n",
              "                                              random_state=None,\n",
              "                                              splitter='best'),\n",
              "             iid='deprecated', n_jobs=-1,\n",
              "             param_grid={'criterion': ['gini', 'entropy'],\n",
              "                         'max_depth': [1, 3, 5, 7, 9, 11, 13],\n",
              "                         'max_features': [1, 2, 3, 4, 5, 6, 7, 8],\n",
              "                         'min_samples_leaf': [2, 4, 6, 8]},\n",
              "             pre_dispatch='2*n_jobs', refit=True, return_train_score=False,\n",
              "             scoring=None, verbose=1)"
            ]
          },
          "execution_count": 85,
          "metadata": {},
          "output_type": "execute_result"
        }
      ]
    },
    {
      "cell_type": "code",
      "metadata": {
        "colab": {
          "base_uri": "https://localhost:8080/"
        },
        "id": "qaW3hddm8Nvj",
        "outputId": "250c40a4-0bf3-49a0-fc9f-7bf9c0cbd781"
      },
      "source": [
        "dt_cv.best_estimator_"
      ],
      "execution_count": null,
      "outputs": [
        {
          "data": {
            "text/plain": [
              "DecisionTreeClassifier(ccp_alpha=0.0, class_weight=None, criterion='gini',\n",
              "                       max_depth=13, max_features=8, max_leaf_nodes=None,\n",
              "                       min_impurity_decrease=0.0, min_impurity_split=None,\n",
              "                       min_samples_leaf=4, min_samples_split=2,\n",
              "                       min_weight_fraction_leaf=0.0, presort='deprecated',\n",
              "                       random_state=None, splitter='best')"
            ]
          },
          "execution_count": 102,
          "metadata": {},
          "output_type": "execute_result"
        }
      ]
    },
    {
      "cell_type": "code",
      "metadata": {
        "colab": {
          "base_uri": "https://localhost:8080/",
          "height": 313
        },
        "id": "VZlka52UAbtN",
        "outputId": "e3839a14-93be-4b5a-d7c5-693f2d8b5bf0"
      },
      "source": [
        "plot_cm(dt_cv.best_estimator_, \"Grid Search Decision Tree\")"
      ],
      "execution_count": null,
      "outputs": [
        {
          "data": {
            "text/plain": [
              "<Figure size 720x576 with 0 Axes>"
            ]
          },
          "metadata": {},
          "output_type": "display_data"
        },
        {
          "data": {
            "image/png": "[encoded data removed]",
            "text/plain": [
              "<Figure size 432x288 with 2 Axes>"
            ]
          },
          "metadata": {},
          "output_type": "display_data"
        }
      ]
    },
    {
      "cell_type": "markdown",
      "metadata": {
        "id": "No8-dEhhAj78"
      },
      "source": [
        "\n",
        "Logistic Regression Hyperparameter Tuning"
      ]
    },
    {
      "cell_type": "code",
      "metadata": {
        "colab": {
          "base_uri": "https://localhost:8080/"
        },
        "id": "CJZbYas4AdPv",
        "outputId": "a93b622c-464a-4655-8a3a-2031bd014182"
      },
      "source": [
        "penalty = ['l1', 'l2']\n",
        "C = np.logspace(0,4,10)\n",
        "\n",
        "params_lr = {'penalty':penalty, 'C':C}\n",
        "\n",
        "lr = LogisticRegression()\n",
        "\n",
        "lr_cv = GridSearchCV(lr, param_grid=params_lr, cv=5, verbose=1, n_jobs=-1, scoring='roc_auc')\n",
        "\n",
        "lr_cv.fit(X_train_res, y_train_res)"
      ],
      "execution_count": null,
      "outputs": [
        {
          "name": "stdout",
          "output_type": "stream",
          "text": [
            "Fitting 5 folds for each of 20 candidates, totalling 100 fits\n"
          ]
        },
        {
          "name": "stderr",
          "output_type": "stream",
          "text": [
            "[Parallel(n_jobs=-1)]: Using backend LokyBackend with 2 concurrent workers.\n",
            "[Parallel(n_jobs=-1)]: Done  46 tasks      | elapsed:  1.3min\n",
            "[Parallel(n_jobs=-1)]: Done 100 out of 100 | elapsed:  3.0min finished\n"
          ]
        },
        {
          "data": {
            "text/plain": [
              "GridSearchCV(cv=5, error_score=nan,\n",
              "             estimator=LogisticRegression(C=1.0, class_weight=None, dual=False,\n",
              "                                          fit_intercept=True,\n",
              "                                          intercept_scaling=1, l1_ratio=None,\n",
              "                                          max_iter=100, multi_class='auto',\n",
              "                                          n_jobs=None, penalty='l2',\n",
              "                                          random_state=None, solver='lbfgs',\n",
              "                                          tol=0.0001, verbose=0,\n",
              "                                          warm_start=False),\n",
              "             iid='deprecated', n_jobs=-1,\n",
              "             param_grid={'C': array([1.00000000e+00, 2.78255940e+00, 7.74263683e+00, 2.15443469e+01,\n",
              "       5.99484250e+01, 1.66810054e+02, 4.64158883e+02, 1.29154967e+03,\n",
              "       3.59381366e+03, 1.00000000e+04]),\n",
              "                         'penalty': ['l1', 'l2']},\n",
              "             pre_dispatch='2*n_jobs', refit=True, return_train_score=False,\n",
              "             scoring='roc_auc', verbose=1)"
            ]
          },
          "execution_count": 87,
          "metadata": {},
          "output_type": "execute_result"
        }
      ]
    },
    {
      "cell_type": "code",
      "metadata": {
        "colab": {
          "base_uri": "https://localhost:8080/"
        },
        "id": "OZcGgzhWAmqI",
        "outputId": "cf62fd38-ff78-4eb6-902d-c2d48e3e533c"
      },
      "source": [
        "lr_cv.best_estimator_"
      ],
      "execution_count": null,
      "outputs": [
        {
          "data": {
            "text/plain": [
              "LogisticRegression(C=2.7825594022071245, class_weight=None, dual=False,\n",
              "                   fit_intercept=True, intercept_scaling=1, l1_ratio=None,\n",
              "                   max_iter=100, multi_class='auto', n_jobs=None, penalty='l2',\n",
              "                   random_state=None, solver='lbfgs', tol=0.0001, verbose=0,\n",
              "                   warm_start=False)"
            ]
          },
          "execution_count": 88,
          "metadata": {},
          "output_type": "execute_result"
        }
      ]
    },
    {
      "cell_type": "code",
      "metadata": {
        "colab": {
          "base_uri": "https://localhost:8080/",
          "height": 313
        },
        "id": "1SV0yJgVCgIA",
        "outputId": "4d6fdc16-d987-4be0-8db9-2df322943fb2"
      },
      "source": [
        "plot_cm(lr_cv, \"Grid Search Logistic Regression\")"
      ],
      "execution_count": null,
      "outputs": [
        {
          "data": {
            "text/plain": [
              "<Figure size 720x576 with 0 Axes>"
            ]
          },
          "metadata": {},
          "output_type": "display_data"
        },
        {
          "data": {
            "image/png": "[encoded data removed]",
            "text/plain": [
              "<Figure size 432x288 with 2 Axes>"
            ]
          },
          "metadata": {},
          "output_type": "display_data"
        }
      ]
    },
    {
      "cell_type": "markdown",
      "metadata": {
        "id": "tBYZYI4BCrDT"
      },
      "source": [
        "Logistic Regression Bagging"
      ]
    },
    {
      "cell_type": "code",
      "metadata": {
        "colab": {
          "base_uri": "https://localhost:8080/"
        },
        "id": "zDsxypxHChyw",
        "outputId": "0562354c-0560-421d-9eaa-4b41be839183"
      },
      "source": [
        "lr_bagger = BaggingClassifier(lr_cv.best_estimator_, n_jobs=-1)\n",
        "lr_bagger.fit(X_train_res, y_train_res)"
      ],
      "execution_count": null,
      "outputs": [
        {
          "data": {
            "text/plain": [
              "BaggingClassifier(base_estimator=LogisticRegression(C=2.7825594022071245,\n",
              "                                                    class_weight=None,\n",
              "                                                    dual=False,\n",
              "                                                    fit_intercept=True,\n",
              "                                                    intercept_scaling=1,\n",
              "                                                    l1_ratio=None, max_iter=100,\n",
              "                                                    multi_class='auto',\n",
              "                                                    n_jobs=None, penalty='l2',\n",
              "                                                    random_state=None,\n",
              "                                                    solver='lbfgs', tol=0.0001,\n",
              "                                                    verbose=0,\n",
              "                                                    warm_start=False),\n",
              "                  bootstrap=True, bootstrap_features=False, max_features=1.0,\n",
              "                  max_samples=1.0, n_estimators=10, n_jobs=-1, oob_score=False,\n",
              "                  random_state=None, verbose=0, warm_start=False)"
            ]
          },
          "execution_count": 90,
          "metadata": {},
          "output_type": "execute_result"
        }
      ]
    },
    {
      "cell_type": "code",
      "metadata": {
        "colab": {
          "base_uri": "https://localhost:8080/",
          "height": 313
        },
        "id": "P9O3pY0dCttd",
        "outputId": "62d62318-c528-4467-9098-ae73e784d03f"
      },
      "source": [
        "plot_cm(lr_bagger, \"Bagged + Grid Search Logistic Regression\")"
      ],
      "execution_count": null,
      "outputs": [
        {
          "data": {
            "text/plain": [
              "<Figure size 720x576 with 0 Axes>"
            ]
          },
          "metadata": {},
          "output_type": "display_data"
        },
        {
          "data": {
            "image/png": "[encoded data removed]",
            "text/plain": [
              "<Figure size 432x288 with 2 Axes>"
            ]
          },
          "metadata": {},
          "output_type": "display_data"
        }
      ]
    },
    {
      "cell_type": "code",
      "metadata": {
        "id": "VxnAapswC52u"
      },
      "source": [
        ""
      ],
      "execution_count": null,
      "outputs": []
    }
  ]
}